{
  "metadata": {
    "kernelspec": {
      "language": "python",
      "display_name": "Python 3",
      "name": "python3"
    },
    "language_info": {
      "pygments_lexer": "ipython3",
      "nbconvert_exporter": "python",
      "version": "3.6.4",
      "file_extension": ".py",
      "codemirror_mode": {
        "name": "ipython",
        "version": 3
      },
      "name": "python",
      "mimetype": "text/x-python"
    },
    "colab": {
      "name": "Diamond Price Prediction ",
      "provenance": [],
      "include_colab_link": true
    }
  },
  "nbformat_minor": 0,
  "nbformat": 4,
  "cells": [
    {
      "cell_type": "markdown",
      "metadata": {
        "id": "view-in-github",
        "colab_type": "text"
      },
      "source": [
        "<a href=\"https://colab.research.google.com/github/monzia-moodie/monzia-moodie/blob/main/Diamond_Price_Prediction.ipynb\" target=\"_parent\"><img src=\"https://colab.research.google.com/assets/colab-badge.svg\" alt=\"Open In Colab\"/></a>"
      ]
    },
    {
      "source": [
        "\n",
        "# IMPORTANT: RUN THIS CELL IN ORDER TO IMPORT YOUR KAGGLE DATA SOURCES\n",
        "# TO THE CORRECT LOCATION (/kaggle/input) IN YOUR NOTEBOOK,\n",
        "# THEN FEEL FREE TO DELETE THIS CELL.\n",
        "# NOTE: THIS NOTEBOOK ENVIRONMENT DIFFERS FROM KAGGLE'S PYTHON\n",
        "# ENVIRONMENT SO THERE MAY BE MISSING LIBRARIES USED BY YOUR\n",
        "# NOTEBOOK.\n",
        "\n",
        "import os\n",
        "import sys\n",
        "from tempfile import NamedTemporaryFile\n",
        "from urllib.request import urlopen\n",
        "from urllib.parse import unquote, urlparse\n",
        "from urllib.error import HTTPError\n",
        "from zipfile import ZipFile\n",
        "import tarfile\n",
        "import shutil\n",
        "\n",
        "CHUNK_SIZE = 40960\n",
        "DATA_SOURCE_MAPPING = 'diamonds:https%3A%2F%2Fstorage.googleapis.com%2Fkaggle-data-sets%2F1312%2F2368%2Fbundle%2Farchive.zip%3FX-Goog-Algorithm%3DGOOG4-RSA-SHA256%26X-Goog-Credential%3Dgcp-kaggle-com%2540kaggle-161607.iam.gserviceaccount.com%252F20240207%252Fauto%252Fstorage%252Fgoog4_request%26X-Goog-Date%3D20240207T172201Z%26X-Goog-Expires%3D259200%26X-Goog-SignedHeaders%3Dhost%26X-Goog-Signature%3D59f4d7f69d0109a8e0115e6e5788fe2e3b6b026f2aabf98319a3883f1ccce51d8e255fa1b810259bdea0559d3f6971be2d9884bb9a634c217cb4204f119b82615c294f0634dedafa8e61639c772958c24874bc5373c0cc39928486ecb41112d02565c688bfa7cd1c8bb9ac33f942366ebbbf602353fb0d7e2350daa2f49b6e408d8c87c5ffad6a42d7d27ec27b3fa517c5cc1311f6ba5b7da972124b6196302f3a77c83bcb988b1af73faff5d6fe1eba465de292b033b02f82e38249820357617a293a95309e1a38c42192fe171c4e13bb9df2ac811319b4b1015dd478250f09921b8840a53c3f24692f8fb99af368a0ad3a6175353c828e19d395d60b032d8c'\n",
        "\n",
        "KAGGLE_INPUT_PATH='/kaggle/input'\n",
        "KAGGLE_WORKING_PATH='/kaggle/working'\n",
        "KAGGLE_SYMLINK='kaggle'\n",
        "\n",
        "!umount /kaggle/input/ 2> /dev/null\n",
        "shutil.rmtree('/kaggle/input', ignore_errors=True)\n",
        "os.makedirs(KAGGLE_INPUT_PATH, 0o777, exist_ok=True)\n",
        "os.makedirs(KAGGLE_WORKING_PATH, 0o777, exist_ok=True)\n",
        "\n",
        "try:\n",
        "  os.symlink(KAGGLE_INPUT_PATH, os.path.join(\"..\", 'input'), target_is_directory=True)\n",
        "except FileExistsError:\n",
        "  pass\n",
        "try:\n",
        "  os.symlink(KAGGLE_WORKING_PATH, os.path.join(\"..\", 'working'), target_is_directory=True)\n",
        "except FileExistsError:\n",
        "  pass\n",
        "\n",
        "for data_source_mapping in DATA_SOURCE_MAPPING.split(','):\n",
        "    directory, download_url_encoded = data_source_mapping.split(':')\n",
        "    download_url = unquote(download_url_encoded)\n",
        "    filename = urlparse(download_url).path\n",
        "    destination_path = os.path.join(KAGGLE_INPUT_PATH, directory)\n",
        "    try:\n",
        "        with urlopen(download_url) as fileres, NamedTemporaryFile() as tfile:\n",
        "            total_length = fileres.headers['content-length']\n",
        "            print(f'Downloading {directory}, {total_length} bytes compressed')\n",
        "            dl = 0\n",
        "            data = fileres.read(CHUNK_SIZE)\n",
        "            while len(data) > 0:\n",
        "                dl += len(data)\n",
        "                tfile.write(data)\n",
        "                done = int(50 * dl / int(total_length))\n",
        "                sys.stdout.write(f\"\\r[{'=' * done}{' ' * (50-done)}] {dl} bytes downloaded\")\n",
        "                sys.stdout.flush()\n",
        "                data = fileres.read(CHUNK_SIZE)\n",
        "            if filename.endswith('.zip'):\n",
        "              with ZipFile(tfile) as zfile:\n",
        "                zfile.extractall(destination_path)\n",
        "            else:\n",
        "              with tarfile.open(tfile.name) as tarfile:\n",
        "                tarfile.extractall(destination_path)\n",
        "            print(f'\\nDownloaded and uncompressed: {directory}')\n",
        "    except HTTPError as e:\n",
        "        print(f'Failed to load (likely expired) {download_url} to path {destination_path}')\n",
        "        continue\n",
        "    except OSError as e:\n",
        "        print(f'Failed to load {download_url} to path {destination_path}')\n",
        "        continue\n",
        "\n",
        "print('Data source import complete.')\n"
      ],
      "metadata": {
        "id": "vESChbRtCuwR"
      },
      "cell_type": "code",
      "outputs": [],
      "execution_count": null
    },
    {
      "cell_type": "code",
      "source": [
        "# This Python 3 environment comes with many helpful analytics libraries installed\n",
        "# It is defined by the kaggle/python Docker image: https://github.com/kaggle/docker-python\n",
        "# For example, here's several helpful packages to load\n",
        "\n",
        "import numpy as np # linear algebra\n",
        "import pandas as pd # data processing, CSV file I/O (e.g. pd.read_csv)\n",
        "\n",
        "# Input data files are available in the read-only \"../input/\" directory\n",
        "# For example, running this (by clicking run or pressing Shift+Enter) will list all files under the input directory\n",
        "\n",
        "import os\n",
        "for dirname, _, filenames in os.walk('/kaggle/input'):\n",
        "    for filename in filenames:\n",
        "        print(os.path.join(dirname, filename))\n",
        "\n",
        "# You can write up to 20GB to the current directory (/kaggle/working/) that gets preserved as output when you create a version using \"Save & Run All\"\n",
        "# You can also write temporary files to /kaggle/temp/, but they won't be saved outside of the current session"
      ],
      "metadata": {
        "_uuid": "8f2839f25d086af736a60e9eeb907d3b93b6e0e5",
        "_cell_guid": "b1076dfc-b9ad-4769-8c92-a6c4dae69d19",
        "_kg_hide-input": true,
        "_kg_hide-output": true,
        "trusted": true,
        "id": "GztiR10bCux1"
      },
      "execution_count": null,
      "outputs": []
    },
    {
      "cell_type": "markdown",
      "source": [
        " # <h1 style='background:#a9a799; border:0; color:black'><center>Price Prediction Of Diamonds: Regression</center></h1>\n",
        "   ![diamands%20project.png](attachment:diamands%20project.png)\n",
        "   <a id='top'></a>\n",
        "<div class=\"list-group\" id=\"list-tab\" role=\"tablist\">\n",
        "<h1 style='background:#a9a799; border:0; color:black'><center>INDEX</center></h1>\n",
        "\n",
        "[1. IMPORTING LIBRARIES](#1)     \n",
        "[2. LOADING DATA](#2)    \n",
        "[3. DATA PREPROCESSING](#3)     \n",
        "[4. MODEL BUILDING](#4)     \n",
        "[5. FIN](#5)"
      ],
      "metadata": {
        "_uuid": "d629ff2d2480ee46fbb7e2d37f6b5fab8052498a",
        "_cell_guid": "79c7e3d0-c299-4dcb-8224-4455121ee9b0",
        "id": "GuCYAEsUCux3"
      }
    },
    {
      "cell_type": "markdown",
      "source": [
        "<a id=\"1\"></a>\n",
        "<h1 style='background:#a9a799; border:0; color:black'><center>LIBRARIES</center></h1>\n",
        "\n",
        "# Importing Libraries\n"
      ],
      "metadata": {
        "id": "j32y4oujCuyP"
      }
    },
    {
      "cell_type": "code",
      "source": [
        "#All the libralies used in this project\n",
        "\n",
        "import numpy as np\n",
        "import pandas as pd\n",
        "import seaborn as sns\n",
        "import matplotlib as mpl\n",
        "import matplotlib.pyplot as plt\n",
        "import matplotlib.pylab as pylab\n",
        "from sklearn.preprocessing import OneHotEncoder, LabelEncoder\n",
        "from sklearn.model_selection import train_test_split\n",
        "from sklearn.preprocessing import StandardScaler\n",
        "from sklearn.decomposition import PCA\n",
        "from sklearn.pipeline import Pipeline\n",
        "from sklearn.tree import DecisionTreeRegressor\n",
        "from sklearn.ensemble import RandomForestRegressor\n",
        "from sklearn.linear_model import LinearRegression\n",
        "from xgboost import XGBRegressor\n",
        "from sklearn.neighbors import KNeighborsRegressor\n",
        "from sklearn.model_selection import cross_val_score\n",
        "from sklearn.metrics import mean_squared_error\n",
        "from sklearn import metrics"
      ],
      "metadata": {
        "trusted": true,
        "id": "0x8w-NROCuyh"
      },
      "execution_count": null,
      "outputs": []
    },
    {
      "cell_type": "markdown",
      "source": [
        "<a id=\"2\"></a>\n",
        "<h1 style='background:#a9a799; border:0; color:black'><center>LOADING DATA</center></h1>\n",
        "\n",
        "# Loading Data\n",
        "\n",
        "This classic dataset contains the prices and other attributes of almost 54,000 diamonds. There are 10 attributes included in the dataset including the target ie. price.\n",
        "\n",
        "**Feature description**:\n",
        "\n",
        "**price** price in US dollars (\\$326--\\$18,823)This is the target column containing tags for the features.\n",
        "\n",
        "**The 4 Cs of Diamonds:-**\n",
        "\n",
        "**carat (0.2--5.01)**\n",
        "The carat is the diamond’s physical weight measured in metric carats.  One carat equals 1/5 gram and is subdivided into 100 points. Carat weight is the most objective grade of the 4Cs.\n",
        "\n",
        "**cut (Fair, Good, Very Good, Premium, Ideal)**\n",
        "In determining the quality of the cut, the diamond grader evaluates the cutter’s skill in the fashioning of the diamond. The more precise the diamond is cut, the more captivating the diamond is to the eye.\n",
        "\n",
        "**color, from J (worst) to D (best)**\n",
        "The colour of gem-quality diamonds occurs in many hues. In the range from colourless to light yellow or light brown. Colourless diamonds are the rarest. Other natural colours (blue, red, pink for example) are known as \"fancy,” and their colour grading is different than from white colorless diamonds.\n",
        "\n",
        "**clarity (I1 (worst), SI2, SI1, VS2, VS1, VVS2, VVS1, IF (best))**\n",
        "Diamonds can have internal characteristics known as inclusions or external characteristics known as blemishes. Diamonds without inclusions or blemishes are rare; however, most characteristics can only be seen with magnification.\n",
        "\n",
        "**Dimensions**\n",
        "\n",
        "**x length in mm (0--10.74)**\n",
        "\n",
        "**y width in mm (0--58.9)**\n",
        "\n",
        "**z depth in mm (0--31.8)**\n",
        "\n",
        "\n",
        "![diamands%20project%20%281%29.png](attachment:diamands%20project%20%281%29.png)\n",
        "\n",
        "**depth total depth percentage = z / mean(x, y) = 2 * z / (x + y) (43--79)**\n",
        "The depth of the diamond is its height (in millimetres) measured from the culet (bottom tip) to the table (flat, top surface).\n",
        "\n",
        "**table width of the top of the diamond relative to widest point (43--95)**\n",
        "\n",
        "A diamond's table refers to the flat facet of the diamond seen when the stone is face up. The main purpose of a diamond table is to refract entering light rays and allow reflected light rays from within the diamond to meet the observer’s eye. The ideal table cut diamond will give the diamond stunning fire and brilliance.\n"
      ],
      "metadata": {
        "id": "ooiTx-y7Cuyi"
      }
    },
    {
      "cell_type": "code",
      "source": [
        "data = pd.read_csv(\"../input/diamonds/diamonds.csv\")\n",
        "data.head()"
      ],
      "metadata": {
        "trusted": true,
        "id": "U-SbhXA1Cu0f"
      },
      "execution_count": null,
      "outputs": []
    },
    {
      "cell_type": "code",
      "source": [
        "data.shape"
      ],
      "metadata": {
        "trusted": true,
        "id": "bbggdPyZCu0i"
      },
      "execution_count": null,
      "outputs": []
    },
    {
      "cell_type": "markdown",
      "source": [
        "<a id=\"3\"></a>\n",
        " <h2 style='background:#a9a799; border:0; color:black'><center>DATA PREPROCESSING</center></h2>\n",
        "# Data Preprocessing\n",
        "**Steps involved in Data Preprocessing**\n",
        "* Data cleaning\n",
        "* Identifying and removing outliers\n",
        "* Encoding categorical variables\n"
      ],
      "metadata": {
        "id": "54VNJeEiCu0w"
      }
    },
    {
      "cell_type": "code",
      "source": [
        "data.info()"
      ],
      "metadata": {
        "trusted": true,
        "id": "Uzb5QCFECu1H"
      },
      "execution_count": null,
      "outputs": []
    },
    {
      "cell_type": "markdown",
      "source": [
        "The first column is an index (\"Unnamed: 0\") and thus we are going to remove it."
      ],
      "metadata": {
        "id": "D3jc6gfkCu1K"
      }
    },
    {
      "cell_type": "code",
      "source": [
        "#The first column seems to be just index\n",
        "data = data.drop([\"Unnamed: 0\"], axis=1)\n",
        "data.describe()"
      ],
      "metadata": {
        "trusted": true,
        "id": "_-O-NUJrCu1L"
      },
      "execution_count": null,
      "outputs": []
    },
    {
      "cell_type": "markdown",
      "source": [
        "**Points to notice:**\n",
        "\n",
        "Min value of \"x\", \"y\", \"z\" are zero this indicates that there are faulty values in data that represents dimensionless or 2-dimensional diamonds. So we need to filter out those as it clearly faulty data points."
      ],
      "metadata": {
        "id": "N1iMl7p5Cu1N"
      }
    },
    {
      "cell_type": "code",
      "source": [
        "#Dropping dimentionless diamonds\n",
        "data = data.drop(data[data[\"x\"]==0].index)\n",
        "data = data.drop(data[data[\"y\"]==0].index)\n",
        "data = data.drop(data[data[\"z\"]==0].index)\n",
        "data.shape"
      ],
      "metadata": {
        "trusted": true,
        "id": "GCPOPvGsCu1O"
      },
      "execution_count": null,
      "outputs": []
    },
    {
      "cell_type": "markdown",
      "source": [
        "We lost 20 data points by deleting the dimensionless(2-D or 1-D) diamonds."
      ],
      "metadata": {
        "id": "bDdLs4cKCu1Q"
      }
    },
    {
      "cell_type": "markdown",
      "source": [
        "**Pairplot Of Data**"
      ],
      "metadata": {
        "id": "fKacCmcRCu1R"
      }
    },
    {
      "cell_type": "code",
      "source": [
        "#Let's have a look at data\n",
        "shade = [\"#835656\", \"#baa0a0\", \"#ffc7c8\", \"#a9a799\", \"#65634a\"]#shades for hue\n",
        "ax = sns.pairplot(data, hue= \"cut\",palette=shade)# I chose \"cut\" as hue. We can also examine other attributes in hue with less value count.\n"
      ],
      "metadata": {
        "_kg_hide-input": true,
        "trusted": true,
        "id": "Yeg3JmafCu1S"
      },
      "execution_count": null,
      "outputs": []
    },
    {
      "cell_type": "markdown",
      "source": [
        "**A few points to notice in these pair plots**\n",
        "\n",
        "There are some features with datapoint that are far from the rest of the dataset which will affect the outcome of our regression model.\n",
        "\n",
        "* \"y\" and \"z\" have some dimensional outlies in our dataset that needs to be eliminated.\n",
        "* The \"depth\" should be capped but we must examine the regression line to be sure.\n",
        "* The \"table\" featured should be capped too.\n",
        "* Let's have a look at regression plots to get a close look at the outliers."
      ],
      "metadata": {
        "id": "SXJ4HvsfCu1T"
      }
    },
    {
      "cell_type": "code",
      "source": [
        "ax = sns.regplot(x=\"price\", y=\"y\", data=data, fit_reg=True, scatter_kws={\"color\": \"#a9a799\"}, line_kws={\"color\": \"#835656\"})\n",
        "ax.set_title(\"Regression Line on Price vs 'y'\", color=\"#4e4c39\")"
      ],
      "metadata": {
        "_kg_hide-input": true,
        "trusted": true,
        "id": "2DdhLVclCu1U"
      },
      "execution_count": null,
      "outputs": []
    },
    {
      "cell_type": "code",
      "source": [
        "ax= sns.regplot(x=\"price\", y=\"z\", data=data, fit_reg=True, scatter_kws={\"color\": \"#a9a799\"}, line_kws={\"color\": \"#835656\"})\n",
        "ax.set_title(\"Regression Line on Price vs 'z'\", color=\"#4e4c39\")"
      ],
      "metadata": {
        "_kg_hide-input": true,
        "trusted": true,
        "id": "-arUwJmwCu1X"
      },
      "execution_count": null,
      "outputs": []
    },
    {
      "cell_type": "code",
      "source": [
        "ax= sns.regplot(x=\"price\", y=\"depth\", data=data, fit_reg=True, scatter_kws={\"color\": \"#a9a799\"}, line_kws={\"color\": \"#835656\"})\n",
        "ax.set_title(\"Regression Line on Price vs Depth\", color=\"#4e4c39\")"
      ],
      "metadata": {
        "_kg_hide-input": true,
        "trusted": true,
        "id": "QCY2ZCUZCu1Y"
      },
      "execution_count": null,
      "outputs": []
    },
    {
      "cell_type": "code",
      "source": [
        "ax=sns.regplot(x=\"price\", y=\"table\", data=data, fit_reg=True, scatter_kws={\"color\": \"#a9a799\"}, line_kws={\"color\": \"#835656\"})\n",
        "ax.set_title(\"Regression Line on Price vs Table\", color=\"#4e4c39\")"
      ],
      "metadata": {
        "_kg_hide-input": true,
        "trusted": true,
        "id": "NJq4FsChCu1Z"
      },
      "execution_count": null,
      "outputs": []
    },
    {
      "cell_type": "markdown",
      "source": [
        "We can clearly spot outliers in these attributes. Next up, we will remove these data points."
      ],
      "metadata": {
        "id": "FSxLSntDCu1c"
      }
    },
    {
      "cell_type": "code",
      "source": [
        "#Dropping the outliers.\n",
        "data = data[(data[\"depth\"]<75)&(data[\"depth\"]>45)]\n",
        "data = data[(data[\"table\"]<80)&(data[\"table\"]>40)]\n",
        "data = data[(data[\"x\"]<30)]\n",
        "data = data[(data[\"y\"]<30)]\n",
        "data = data[(data[\"z\"]<30)&(data[\"z\"]>2)]\n",
        "data.shape"
      ],
      "metadata": {
        "trusted": true,
        "id": "2jL9jnyKCu1u"
      },
      "execution_count": null,
      "outputs": []
    },
    {
      "cell_type": "markdown",
      "source": [
        "We can clearly spot outliers in these attributes. Next up, we will remove these data points.Now that we have removed regression outliers, let us have a look at the pair plot of data in our hand."
      ],
      "metadata": {
        "id": "L3NLINhhCu1y"
      }
    },
    {
      "cell_type": "code",
      "source": [
        "ax=sns.pairplot(data, hue= \"cut\",palette=shade)"
      ],
      "metadata": {
        "trusted": true,
        "id": "YBMmu8ZjCu10"
      },
      "execution_count": null,
      "outputs": []
    },
    {
      "cell_type": "markdown",
      "source": [
        "That's a much cleaner dataset.\n",
        "Next, we will deal with the categorical variables."
      ],
      "metadata": {
        "id": "Sk5r0Ft3Cu13"
      }
    },
    {
      "cell_type": "code",
      "source": [
        "# Get list of categorical variables\n",
        "s = (data.dtypes ==\"object\")\n",
        "object_cols = list(s[s].index)\n",
        "print(\"Categorical variables:\")\n",
        "print(object_cols)"
      ],
      "metadata": {
        "trusted": true,
        "id": "oWEt7yZjCu14"
      },
      "execution_count": null,
      "outputs": []
    },
    {
      "cell_type": "markdown",
      "source": [
        "We have three categorical variables.\n",
        "Let us have a look at them."
      ],
      "metadata": {
        "id": "rPFYRMYYCu16"
      }
    },
    {
      "cell_type": "code",
      "source": [
        "plt.figure(figsize=(12,8))\n",
        "ax = sns.violinplot(x=\"cut\",y=\"price\", data=data, palette=shade,scale= \"count\")\n",
        "ax.set_title(\"Violinplot For Cut vs Price\", color=\"#4e4c39\")\n",
        "ax.set_ylabel(\"Price\", color=\"#4e4c39\")\n",
        "ax.set_xlabel(\"Cut\", color=\"#4e4c39\")"
      ],
      "metadata": {
        "_kg_hide-input": true,
        "trusted": true,
        "id": "LEPTy5mcCu16"
      },
      "execution_count": null,
      "outputs": []
    },
    {
      "cell_type": "code",
      "source": [
        "plt.figure(figsize=(12,8))\n",
        "shade_1 = [\"#835656\",\"#b38182\", \"#baa0a0\",\"#ffc7c8\",\"#d0cd85\", \"#a9a799\", \"#65634a\"]\n",
        "ax = sns.violinplot(x=\"color\",y=\"price\", data=data, palette=shade_1,scale= \"count\")\n",
        "ax.set_title(\"Violinplot For Color vs Price\", color=\"#4e4c39\")\n",
        "ax.set_ylabel(\"Price\", color=\"#4e4c39\")\n",
        "ax.set_xlabel(\"Color\", color=\"#4e4c39\")"
      ],
      "metadata": {
        "_kg_hide-input": true,
        "trusted": true,
        "id": "3fBmC3Q0Cu17"
      },
      "execution_count": null,
      "outputs": []
    },
    {
      "cell_type": "code",
      "source": [
        "plt.figure(figsize=(12,8))\n",
        "shade_2 = [\"#835656\",\"#b38182\", \"#baa0a0\",\"#ffc7c8\",\"#f1f1f1\",\"#d0cd85\", \"#a9a799\", \"#65634a\"]\n",
        "ax = sns.violinplot(x=\"clarity\",y=\"price\", data=data, palette=shade_2,scale= \"count\")\n",
        "ax.set_title(\"Violinplot For Clarity vs Price\", color=\"#4e4c39\")\n",
        "ax.set_ylabel(\"Price\", color=\"#4e4c39\")\n",
        "ax.set_xlabel(\"Clarity\", color=\"#4e4c39\")"
      ],
      "metadata": {
        "_kg_hide-input": true,
        "trusted": true,
        "id": "LgLp1jT4Cu17"
      },
      "execution_count": null,
      "outputs": []
    },
    {
      "cell_type": "markdown",
      "source": [
        "Lable encoding the data to get rid of object dtype."
      ],
      "metadata": {
        "id": "zFEM7KTmCu18"
      }
    },
    {
      "cell_type": "code",
      "source": [
        "# Make copy to avoid changing original data\n",
        "label_data = data.copy()\n",
        "\n",
        "# Apply label encoder to each column with categorical data\n",
        "label_encoder = LabelEncoder()\n",
        "for col in object_cols:\n",
        "    label_data[col] = label_encoder.fit_transform(label_data[col])\n",
        "label_data.head()"
      ],
      "metadata": {
        "trusted": true,
        "id": "c9UuMcliCu18"
      },
      "execution_count": null,
      "outputs": []
    },
    {
      "cell_type": "code",
      "source": [
        "data.describe()"
      ],
      "metadata": {
        "trusted": true,
        "id": "nOpVQ-ztCu1-"
      },
      "execution_count": null,
      "outputs": []
    },
    {
      "cell_type": "code",
      "source": [
        "#correlation matrix\n",
        "cmap = sns.diverging_palette(70,20,s=50, l=40, n=6,as_cmap=True)\n",
        "corrmat= label_data.corr()\n",
        "f, ax = plt.subplots(figsize=(12,12))\n",
        "sns.heatmap(corrmat,cmap=cmap,annot=True, )"
      ],
      "metadata": {
        "trusted": true,
        "id": "QfRa5yJvCu1_"
      },
      "execution_count": null,
      "outputs": []
    },
    {
      "cell_type": "markdown",
      "source": [
        "**Points to notice:**\n",
        "* \"x\", \"y\" and \"z\" show a high correlation to the target column.\n",
        "* \"depth\", \"cut\" and \"table\" show low correlation. We could consider dropping but let's keep it."
      ],
      "metadata": {
        "id": "YydDvny-Cu2A"
      }
    },
    {
      "cell_type": "markdown",
      "source": [
        "\n",
        "<a id=\"4\"></a>\n",
        " <h1 style='background:#a9a799; border:0; color:black'><center>MODEL BUILDING</center></h1>\n",
        "# Model Building\n",
        "\n",
        "**Steps involved in Model Building**\n",
        "\n",
        "* Setting up features and target\n",
        "* Build a pipeline of standard scalar and model for five different regressors.\n",
        "* Fit all the models on training data\n",
        "* Get mean of cross-validation on the training set for all the models for negative root mean square error\n",
        "* Pick the model with the best cross-validation score\n",
        "* Fit the best model on the training set and get"
      ],
      "metadata": {
        "id": "mXxZn-tvCu2B"
      }
    },
    {
      "cell_type": "code",
      "source": [
        "# Assigning the featurs as X and trarget as y\n",
        "X= label_data.drop([\"price\"],axis =1)\n",
        "y= label_data[\"price\"]\n",
        "X_train, X_test, y_train, y_test = train_test_split(X, y,test_size=0.25, random_state=7)"
      ],
      "metadata": {
        "trusted": true,
        "id": "CQFqkbPuCu2N"
      },
      "execution_count": null,
      "outputs": []
    },
    {
      "cell_type": "code",
      "source": [
        "# Building pipelins of standard scaler and model for varios regressors.\n",
        "\n",
        "pipeline_lr=Pipeline([(\"scalar1\",StandardScaler()),\n",
        "                     (\"lr_classifier\",LinearRegression())])\n",
        "\n",
        "pipeline_dt=Pipeline([(\"scalar2\",StandardScaler()),\n",
        "                     (\"dt_classifier\",DecisionTreeRegressor())])\n",
        "\n",
        "pipeline_rf=Pipeline([(\"scalar3\",StandardScaler()),\n",
        "                     (\"rf_classifier\",RandomForestRegressor())])\n",
        "\n",
        "\n",
        "pipeline_kn=Pipeline([(\"scalar4\",StandardScaler()),\n",
        "                     (\"rf_classifier\",KNeighborsRegressor())])\n",
        "\n",
        "\n",
        "pipeline_xgb=Pipeline([(\"scalar5\",StandardScaler()),\n",
        "                     (\"rf_classifier\",XGBRegressor())])\n",
        "\n",
        "# List of all the pipelines\n",
        "pipelines = [pipeline_lr, pipeline_dt, pipeline_rf, pipeline_kn, pipeline_xgb]\n",
        "\n",
        "# Dictionary of pipelines and model types for ease of reference\n",
        "pipe_dict = {0: \"LinearRegression\", 1: \"DecisionTree\", 2: \"RandomForest\",3: \"KNeighbors\", 4: \"XGBRegressor\"}\n",
        "\n",
        "# Fit the pipelines\n",
        "for pipe in pipelines:\n",
        "    pipe.fit(X_train, y_train)"
      ],
      "metadata": {
        "trusted": true,
        "id": "It2jmnZCCu3e"
      },
      "execution_count": null,
      "outputs": []
    },
    {
      "cell_type": "code",
      "source": [
        "cv_results_rms = []\n",
        "for i, model in enumerate(pipelines):\n",
        "    cv_score = cross_val_score(model, X_train,y_train,scoring=\"neg_root_mean_squared_error\", cv=10)\n",
        "    cv_results_rms.append(cv_score)\n",
        "    print(\"%s: %f \" % (pipe_dict[i], cv_score.mean()))"
      ],
      "metadata": {
        "trusted": true,
        "id": "qjZaNVVICu3g"
      },
      "execution_count": null,
      "outputs": []
    },
    {
      "cell_type": "markdown",
      "source": [
        "**Testing the Model with the best score on the test set**\n",
        "\n",
        "In the above scores, XGBClassifier appears to be the model with the best scoring on negative root mean square error. Let's test this model on a test set and evaluate it with different parameters."
      ],
      "metadata": {
        "id": "AwpDhcmyCu3h"
      }
    },
    {
      "cell_type": "code",
      "source": [
        "# Model prediction on test data\n",
        "pred = pipeline_xgb.predict(X_test)"
      ],
      "metadata": {
        "trusted": true,
        "id": "atxLcpizCu3l"
      },
      "execution_count": null,
      "outputs": []
    },
    {
      "cell_type": "code",
      "source": [
        "# Model Evaluation\n",
        "print(\"R^2:\",metrics.r2_score(y_test, pred))\n",
        "print(\"Adjusted R^2:\",1 - (1-metrics.r2_score(y_test, pred))*(len(y_test)-1)/(len(y_test)-X_test.shape[1]-1))\n",
        "print(\"MAE:\",metrics.mean_absolute_error(y_test, pred))\n",
        "print(\"MSE:\",metrics.mean_squared_error(y_test, pred))\n",
        "print(\"RMSE:\",np.sqrt(metrics.mean_squared_error(y_test, pred)))"
      ],
      "metadata": {
        "trusted": true,
        "id": "n_Av62weCu3m"
      },
      "execution_count": null,
      "outputs": []
    },
    {
      "cell_type": "markdown",
      "source": [
        "**<span style=\"color:#65634a;\"> If you liked this Notebook, please do upvote.</span>**\n",
        "\n",
        "**<span style=\"color:#65634a;\"> If you have any suggestions or questions, I am all ears!</span>**\n",
        "\n",
        "**<span style=\"color:#65634a;\">Best Wishes!</span>**\n",
        "\n",
        "<a id=\"5\"></a>\n",
        "# <h1 style='background:#a9a799; border:0; color:black'><center>FIN</center></h1>"
      ],
      "metadata": {
        "id": "_0XhBf5sCu3n"
      }
    }
  ]
}